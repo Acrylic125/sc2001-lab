{
 "cells": [
  {
   "cell_type": "code",
   "execution_count": null,
   "id": "b0a6d031",
   "metadata": {},
   "outputs": [],
   "source": [
    "import matplotlib.pyplot as plt\n",
    "import numpy as np\n",
    "from typing import List, Tuple\n",
    "import random\n",
    "from time import perf_counter_ns\n",
    "import networkx as nx\n",
    "import heapq"
   ]
  },
  {
   "cell_type": "markdown",
   "id": "31897d89",
   "metadata": {},
   "source": [
    "# Context\n",
    "> We have a knapsack of capacity weight C (a positive integer) and n types of objects. Each object of the ith type has weight wi and profit pi (all wi and all p i are positive integers, i = 0, 1, …, n-1). There are unlimited supplies of each type of objects. Find the largest total profit of any set of the objects that fits in the knapsack. Let P(C) be the maximum profit that can be made by packing objects into the knapsack of capacity C\n",
    "\n",
    "# (a) Give a recursive definition of the function P(C).\n",
    "```\n",
    "P(C) = {\n",
    "    P(C - Oi_w) + Oi_p where Oi_p is in [Oi_w <= C]\n",
    "    0 where len([Oi_w <= C]) = 0\n",
    "}\n",
    "```\n"
   ]
  },
  {
   "cell_type": "code",
   "execution_count": 9,
   "id": "b2669d3c",
   "metadata": {},
   "outputs": [
    {
     "name": "stdout",
     "output_type": "stream",
     "text": [
      "21\n"
     ]
    }
   ],
   "source": [
    "# [(w, p)]\n",
    "objects: List[Tuple[int, int]] = [(4, 7), (6, 6), (8, 9)]\n",
    "\n",
    "memo = {}\n",
    "\n",
    "def P(C):\n",
    "    mem = memo.get(C)\n",
    "    if mem is not None:\n",
    "        return mem\n",
    "    highest_p = None\n",
    "    for (w, p) in objects:\n",
    "        if C >= w:\n",
    "            oP = P(C - w) + p\n",
    "            if highest_p is None or oP > highest_p:\n",
    "                highest_p = oP\n",
    "    \n",
    "    if highest_p is None:\n",
    "        memo[C] = 0\n",
    "        return 0\n",
    "    memo[C] = highest_p\n",
    "    return highest_p\n",
    "        \n",
    "print(P(14))"
   ]
  },
  {
   "cell_type": "code",
   "execution_count": null,
   "id": "619d412d",
   "metadata": {},
   "outputs": [],
   "source": [
    "\n",
    "# [(w, p)]\n",
    "objects: List[Tuple[int, int]] = [(4, 7), (6, 6), (8, 9)]\n",
    "\n",
    "memo = {}\n",
    "\n",
    "def P(C):\n",
    "    mem = memo.get(C)\n",
    "    if mem is not None:\n",
    "        return mem\n",
    "    highest_p = None\n",
    "    for (w, p) in objects:\n",
    "        if C >= w:\n",
    "            oP = P(C - w) + p\n",
    "            if highest_p is None or oP > highest_p:\n",
    "                highest_p = oP\n",
    "    \n",
    "    if highest_p is None:\n",
    "        memo[C] = 0\n",
    "        return 0\n",
    "    memo[C] = highest_p\n",
    "    return highest_p\n",
    "        \n",
    "print(P(14))"
   ]
  }
 ],
 "metadata": {
  "kernelspec": {
   "display_name": ".venv",
   "language": "python",
   "name": "python3"
  },
  "language_info": {
   "codemirror_mode": {
    "name": "ipython",
    "version": 3
   },
   "file_extension": ".py",
   "mimetype": "text/x-python",
   "name": "python",
   "nbconvert_exporter": "python",
   "pygments_lexer": "ipython3",
   "version": "3.13.5"
  }
 },
 "nbformat": 4,
 "nbformat_minor": 5
}
