{
 "cells": [
  {
   "cell_type": "code",
   "execution_count": 10,
   "id": "b0a6d031",
   "metadata": {},
   "outputs": [],
   "source": [
    "import matplotlib.pyplot as plt\n",
    "import numpy as np\n",
    "from typing import List, Tuple\n",
    "import random\n",
    "from time import perf_counter_ns\n",
    "import networkx as nx\n",
    "import heapq"
   ]
  },
  {
   "cell_type": "markdown",
   "id": "31897d89",
   "metadata": {},
   "source": [
    "# Context\n",
    "> We have a knapsack of capacity weight C (a positive integer) and n types of objects. Each object of the ith type has weight wi and profit pi (all wi and all p i are positive integers, i = 0, 1, …, n-1). There are unlimited supplies of each type of objects. Find the largest total profit of any set of the objects that fits in the knapsack. Let P(C) be the maximum profit that can be made by packing objects into the knapsack of capacity C\n",
    "\n",
    "# (a) Give a recursive definition of the function P(C).\n",
    "$$\n",
    "P(C) = \\begin{cases}\n",
    "    memo[C] &: \\text{if memo[C] exists} \\\\\n",
    "    \\text{Max}_{i : \\omega_i \\leq C} \\left( P(C - \\omega_i) + p_i \\right) &: \\text{if there is at least 1 } \\omega_i \\leq C \\\\\n",
    "    0 &: \\text{if there is no } \\omega_i \\leq C \n",
    "\\end{cases}\n",
    "$$\n"
   ]
  },
  {
   "cell_type": "markdown",
   "id": "73b91995",
   "metadata": {},
   "source": [
    "# (b) Draw the subproblem graph for P(14) where n is 3 with the weights and profits given below.\n",
    "![Subproblem graph](./img/graph.png)\n",
    "\n",
    "# (c) Give a dynamic programming algorithm to compute the maximum profit, given a knapsack of capacity C, n types of objects with weights wi and profits p i using the bottom up approach.\n",
    "\n",
    "Given `memo = {}`, and `objects = [(w, p), ...]`.\n",
    "\n",
    "Define `P(C)` as follows:\n",
    "1. If `memo[C]` exists, return `memo[C]`\n",
    "1. Else, set `highest = None`.\n",
    "1. For each `(w, p) in objects`, check if `w <= C`. If not, continue to next object.\n",
    "1. Run `oP = P(C - w) + p`. If `highest` is None **OR** `oP > highest`, then set `highest = oP`.\n",
    "1. After the loop, if `highest is None`, `return 0`.\n",
    "1. Else, memoise `memo[C] = highest`, and `return highest`.\n",
    "\n",
    "# (d) Code your algorithm in a programming language\n",
    "> a. show the running result of P(14) with weights and profits given in (2).\n",
    "\n",
    "We expect **21**."
   ]
  },
  {
   "cell_type": "code",
   "execution_count": 11,
   "id": "b2669d3c",
   "metadata": {},
   "outputs": [
    {
     "name": "stdout",
     "output_type": "stream",
     "text": [
      "21\n"
     ]
    }
   ],
   "source": [
    "# [(w, p)]\n",
    "objects: List[Tuple[int, int]] = [(4, 7), (6, 6), (8, 9)]\n",
    "\n",
    "memo = {}\n",
    "\n",
    "def P(C):\n",
    "    mem = memo.get(C)\n",
    "    if mem is not None:\n",
    "        return mem\n",
    "    highest_p = None\n",
    "    for (w, p) in objects:\n",
    "        if C >= w:\n",
    "            oP = P(C - w) + p\n",
    "            if highest_p is None or oP > highest_p:\n",
    "                highest_p = oP\n",
    "    \n",
    "    if highest_p is None:\n",
    "        memo[C] = 0\n",
    "        return 0\n",
    "    memo[C] = highest_p\n",
    "    return highest_p\n",
    "        \n",
    "print(P(14))"
   ]
  },
  {
   "cell_type": "markdown",
   "id": "96f14be7",
   "metadata": {},
   "source": [
    "> b. Show the running result of P(14) with weights and profits given below\n",
    "\n",
    "![Subproblem graph](./img/graph-2.png)"
   ]
  },
  {
   "cell_type": "code",
   "execution_count": 12,
   "id": "03fced18",
   "metadata": {},
   "outputs": [
    {
     "name": "stdout",
     "output_type": "stream",
     "text": [
      "16\n"
     ]
    }
   ],
   "source": [
    "# MAKE SURE TO RESET MEMO\n",
    "# [(w, p)]\n",
    "objects: List[Tuple[int, int]] = [(5, 7), (6, 6), (8, 9)]\n",
    "memo = {}\n",
    "\n",
    "print(P(14))\n"
   ]
  }
 ],
 "metadata": {
  "kernelspec": {
   "display_name": ".venv",
   "language": "python",
   "name": "python3"
  },
  "language_info": {
   "codemirror_mode": {
    "name": "ipython",
    "version": 3
   },
   "file_extension": ".py",
   "mimetype": "text/x-python",
   "name": "python",
   "nbconvert_exporter": "python",
   "pygments_lexer": "ipython3",
   "version": "3.13.5"
  }
 },
 "nbformat": 4,
 "nbformat_minor": 5
}
